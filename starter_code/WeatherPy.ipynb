{
 "cells": [
  {
   "cell_type": "markdown",
   "metadata": {},
   "source": [
    "# WeatherPy\n",
    "\n",
    "---\n",
    "\n",
    "## Starter Code to Generate Random Geographic Coordinates and a List of Cities"
   ]
  },
  {
   "cell_type": "code",
   "execution_count": null,
   "metadata": {
    "scrolled": true
   },
   "outputs": [],
   "source": [
    "# Dependencies and Setup\n",
    "import matplotlib.pyplot as plt\n",
    "import pandas as pd\n",
    "import numpy as np\n",
    "import requests\n",
    "import time\n",
    "from scipy import stats\n",
    "from scipy.stats import linregress\n",
    "\n",
    "# Import the OpenWeatherMap API key\n",
    "from api_keys import weather_api_key\n",
    "\n",
    "# Import citipy to determine the cities based on latitude and longitude\n",
    "from citipy import citipy"
   ]
  },
  {
   "cell_type": "markdown",
   "metadata": {},
   "source": [
    "### Generate the Cities List by Using the `citipy` Library"
   ]
  },
  {
   "cell_type": "code",
   "execution_count": null,
   "metadata": {},
   "outputs": [],
   "source": [
    "# Empty list for holding the latitude and longitude combinations\n",
    "lat_lngs = []\n",
    "\n",
    "# Empty list for holding the cities names\n",
    "cities = []\n",
    "\n",
    "# Range of latitudes and longitudes\n",
    "lat_range = (-90, 90)\n",
    "lng_range = (-180, 180)\n",
    "\n",
    "# Create a set of random lat and lng combinations\n",
    "lats = np.random.uniform(lat_range[0], lat_range[1], size=1500)\n",
    "lngs = np.random.uniform(lng_range[0], lng_range[1], size=1500)\n",
    "lat_lngs = zip(lats, lngs)\n",
    "\n",
    "# Identify nearest city for each lat, lng combination\n",
    "for lat_lng in lat_lngs:\n",
    "    city = citipy.nearest_city(lat_lng[0], lat_lng[1]).city_name\n",
    "    \n",
    "    # If the city is unique, then add it to our cities list\n",
    "    if city not in cities:\n",
    "        cities.append(city)\n",
    "\n",
    "# Print the city count to confirm sufficient count\n",
    "print(f\"Number of cities in the list: {len(cities)}\")"
   ]
  },
  {
   "cell_type": "code",
   "execution_count": null,
   "metadata": {},
   "outputs": [],
   "source": [
    "cities"
   ]
  },
  {
   "cell_type": "code",
   "execution_count": null,
   "metadata": {},
   "outputs": [],
   "source": [
    "#city_test = cities[0:10]\n",
    "#city_test"
   ]
  },
  {
   "cell_type": "markdown",
   "metadata": {},
   "source": [
    "---"
   ]
  },
  {
   "cell_type": "markdown",
   "metadata": {},
   "source": [
    "## Requirement 1: Create Plots to Showcase the Relationship Between Weather Variables and Latitude\n",
    "\n",
    "### Use the OpenWeatherMap API to retrieve weather data from the cities list generated in the started code"
   ]
  },
  {
   "cell_type": "code",
   "execution_count": null,
   "metadata": {},
   "outputs": [],
   "source": [
    "# Set the API base URL\n",
    "from pprint import pprint\n",
    "\n",
    "url = \"https://api.openweathermap.org/data/2.5/weather?\"\n",
    "weather_api_key\n",
    "units= \"metric\"\n",
    "\n",
    "\n",
    "# Define an empty list to fetch the weather data for each city\n",
    "city_data = []\n",
    "\n",
    "# Print to logger\n",
    "print(\"Beginning Data Retrieval     \")\n",
    "print(\"-----------------------------\")\n",
    "\n",
    "# Create counters\n",
    "record_count = 1\n",
    "set_count = 1\n",
    "\n",
    "# Loop through all the cities in our list to fetch weather data\n",
    "for i, city in enumerate(cities):\n",
    "        \n",
    "    # Group cities in sets of 50 for logging purposes\n",
    "    if (i % 50 == 0 and i >= 50):\n",
    "        set_count += 1\n",
    "        record_count = 0\n",
    "\n",
    "    # Create endpoint URL with each city\n",
    "    city_url = url + \"&q=\" + city + \"&appid=\" + weather_api_key + \"&units=\" + units\n",
    "    \n",
    "    # Log the url, record, and set numbers\n",
    "    print(\"Processing Record %s of Set %s | %s\" % (record_count, set_count, city))\n",
    "\n",
    "    # Add 1 to the record count\n",
    "    record_count += 1\n",
    "\n",
    "    # Run an API request for each of the cities\n",
    "    try:\n",
    "\n",
    "\n",
    "    # Parse the JSON and retrieve data\n",
    "        city_weather = requests.get(city_url).json()\n",
    "\n",
    "\n",
    "        # Parse out latitude, longitude, max temp, humidity, cloudiness, wind speed, country, and date\n",
    "        city_lat = city_weather[\"coord\"][\"lat\"]\n",
    "        city_lng = city_weather[\"coord\"][\"lon\"]\n",
    "        city_max_temp = city_weather[\"main\"][\"temp_max\"]\n",
    "        city_humidity = city_weather[\"main\"][\"humidity\"]\n",
    "        city_clouds = city_weather[\"clouds\"][\"all\"]\n",
    "        city_wind = city_weather[\"wind\"][\"speed\"]\n",
    "        city_country = city_weather[\"sys\"][\"country\"]\n",
    "        city_date = city_weather[\"dt\"]\n",
    "        \n",
    "        # Convert city_unix_date to day\n",
    "        # city_date = pd.to_datetime(city_unix_date, unit = 'M')\n",
    "\n",
    "        # Append the City information into city_data list\n",
    "        city_data.append({\"City\": city, \n",
    "                          \"Lat\": city_lat, \n",
    "                          \"Lng\": city_lng, \n",
    "                          \"Max Temp\": city_max_temp,\n",
    "                          \"Humidity\": city_humidity,\n",
    "                          \"Cloudiness\": city_clouds,\n",
    "                          \"Wind Speed\": city_wind,\n",
    "                          \"Country\": city_country,\n",
    "                          \"Date\": city_date})\n",
    "\n",
    "    # If an error is experienced, skip the city\n",
    "    except:\n",
    "        print(\"City not found. Skipping...\")\n",
    "        pass\n",
    "              \n",
    "# Indicate that Data Loading is complete \n",
    "print(\"-----------------------------\")\n",
    "print(\"Data Retrieval Complete      \")\n",
    "print(\"-----------------------------\")"
   ]
  },
  {
   "cell_type": "code",
   "execution_count": null,
   "metadata": {},
   "outputs": [],
   "source": [
    "# Convert the cities weather data into a Pandas DataFrame\n",
    "city_data_df = pd.DataFrame(city_data)\n",
    "city_data_df\n",
    "# Show Record Count\n",
    "city_data_df.count()"
   ]
  },
  {
   "cell_type": "code",
   "execution_count": null,
   "metadata": {},
   "outputs": [],
   "source": [
    "# Display sample data\n",
    "city_data_df"
   ]
  },
  {
   "cell_type": "code",
   "execution_count": null,
   "metadata": {},
   "outputs": [],
   "source": [
    "# Export the City_Data into a csv\n",
    "city_data_df.to_csv(\"../output_data/cities.csv\", index_label=\"City_ID\")"
   ]
  },
  {
   "cell_type": "code",
   "execution_count": null,
   "metadata": {},
   "outputs": [],
   "source": [
    "# Read saved data\n",
    "city_data_df = pd.read_csv(\"../output_data/cities.csv\", index_col=\"City_ID\")\n",
    "\n",
    "# Display sample data\n",
    "city_data_df"
   ]
  },
  {
   "cell_type": "markdown",
   "metadata": {},
   "source": [
    "### Create the Scatter Plots Requested\n",
    "\n",
    "#### Latitude Vs. Temperature"
   ]
  },
  {
   "cell_type": "code",
   "execution_count": null,
   "metadata": {
    "tags": []
   },
   "outputs": [],
   "source": [
    "# Build scatter plot for latitude vs. temperature\n",
    "\n",
    "# Define the x and y axes and values.\n",
    "lat_v_temp_x = city_data_df[\"Lat\"]\n",
    "lat_v_temp_y = city_data_df[\"Max Temp\"]\n",
    "\n",
    "# Incorporate the other graph properties\n",
    "# Axes labels, put grid in background, purple dots\n",
    "plt.xlabel(\"Latitude\")\n",
    "plt.ylabel(\"Temperature (Celsius)\")\n",
    "plt.title(\"Latitude vs Temperature (All Cities)\")\n",
    "plt.grid(True)\n",
    "plt.scatter(lat_v_temp_x,lat_v_temp_y, color = \"purple\", edgecolor=\"black\")\n",
    "\n",
    "# Save the figure\n",
    "plt.savefig(\"../output_data/Fig1_LatTemp.png\")\n",
    "\n",
    "# Show plot\n",
    "plt.show()"
   ]
  },
  {
   "cell_type": "markdown",
   "metadata": {},
   "source": [
    "#### Latitude Vs. Humidity"
   ]
  },
  {
   "cell_type": "code",
   "execution_count": null,
   "metadata": {},
   "outputs": [],
   "source": [
    "# Build the scatter plots for latitude vs. humidity\n",
    "\n",
    "# Define x and y axes and values.\n",
    "lat_v_hum_x = city_data_df[\"Lat\"]\n",
    "lat_v_hum_y = city_data_df[\"Humidity\"]\n",
    "\n",
    "# Incorporate the other graph properties\n",
    "plt.grid(True)\n",
    "plt.xlabel(\"Latitude\")\n",
    "plt.ylabel(\"Humidity (%)\")\n",
    "plt.title(\"Latitude vs Humidity (All Cities)\")\n",
    "plt.scatter(lat_v_hum_x,lat_v_hum_y,color=\"blue\", edgecolor=\"black\")\n",
    "\n",
    "# Save the figure\n",
    "plt.savefig(\"../output_data/Fig2_LatHum.png\")\n",
    "\n",
    "# Show plot\n",
    "plt.show()"
   ]
  },
  {
   "cell_type": "markdown",
   "metadata": {},
   "source": [
    "#### Latitude Vs. Cloudiness"
   ]
  },
  {
   "cell_type": "code",
   "execution_count": null,
   "metadata": {},
   "outputs": [],
   "source": [
    "# Build the scatter plots for latitude vs. cloudiness\n",
    "\n",
    "# Define x and y axes and values.\n",
    "lat_v_cloud_x = city_data_df[\"Lat\"]\n",
    "lat_v_cloud_y = city_data_df[\"Cloudiness\"]\n",
    "\n",
    "# Incorporate the other graph properties\n",
    "plt.title(\"Latitude vs Cloudiness (All Cities)\")\n",
    "plt.grid(True)\n",
    "plt.xlabel(\"Latitude\")\n",
    "plt.ylabel(\"Cloudiness (%)\")\n",
    "plt.scatter(lat_v_cloud_x,lat_v_cloud_y,color=\"orange\", edgecolor=\"black\")\n",
    "\n",
    "# Save the figure\n",
    "plt.savefig(\"../output_data/Fig3_LatCloud.png\")\n",
    "\n",
    "# Show plot\n",
    "plt.show()"
   ]
  },
  {
   "cell_type": "markdown",
   "metadata": {},
   "source": [
    "#### Latitude vs. Wind Speed Plot"
   ]
  },
  {
   "cell_type": "code",
   "execution_count": null,
   "metadata": {},
   "outputs": [],
   "source": [
    "# Build the scatter plots for latitude vs. wind speed\n",
    "\n",
    "# Define the x and y axes and values.\n",
    "lat_v_wind_x = city_data_df[\"Lat\"]\n",
    "lat_v_wind_y = city_data_df[\"Wind Speed\"]\n",
    "\n",
    "# Incorporate the other graph properties\n",
    "plt.title(\"Latitude vs Wind Speed (All Cities)\")\n",
    "plt.grid(True)\n",
    "plt.xlabel(\"Latitude\")\n",
    "plt.ylabel(\"Wind Speed (m/s)\")\n",
    "plt.scatter(lat_v_wind_x,lat_v_wind_y,color=\"green\", edgecolor=\"black\")\n",
    "\n",
    "# Save the figure\n",
    "plt.savefig(\"../output_data/Fig4_LatWind.png\")\n",
    "\n",
    "# Show plot\n",
    "plt.show()"
   ]
  },
  {
   "cell_type": "markdown",
   "metadata": {},
   "source": [
    "---\n",
    "\n",
    "## Requirement 2: Compute Linear Regression for Each Relationship\n"
   ]
  },
  {
   "cell_type": "code",
   "execution_count": null,
   "metadata": {},
   "outputs": [],
   "source": [
    "# Define a function to create Linear Regression plots\n",
    "def lin_regr(x_values, y_values, xlab, ylab, title):\n",
    "\n",
    "    # Linear regression on Lat vs <Column/Weather>\n",
    "    # x_values and y_values are calculated within the specific section cells\n",
    "    (slope, intercept, rvalue, pvalue, stderr) = stats.linregress(x_values, y_values)\n",
    "\n",
    "    # Calculate regression values\n",
    "    regress_values = x_values * slope + intercept\n",
    "    print(regress_values)\n",
    "\n",
    "    # Create line equation string\n",
    "    line_eq = \"y = \" +str(round(slope, 2)) + \"x + \" + str(round(intercept, 2))\n",
    "    print(line_eq)\n",
    "\n",
    "    # Create scatter plot of lat vs <column/weather>, with the linear regression\n",
    "    plt.scatter(x_values, y_values, color=\"purple\", edgecolor=\"black\")\n",
    "    plt.plot(x_values,regress_values, \"r-\")\n",
    "\n",
    "    # Label and annotate plot components and line equation\n",
    "    # xmin and ymin are calculated within the specific section cells\n",
    "    plt.xlabel(xlab)\n",
    "    plt.ylabel(ylab)\n",
    "    plt.grid(True)\n",
    "    plt.title(title)\n",
    "    plt.annotate(line_eq , (xmin, ymin), fontsize=15,color=\"red\")\n",
    "\n",
    "    # Print the r value\n",
    "    print(f\"The r-value is: {rvalue**2}\")\n",
    "\n",
    "    # Show the plot\n",
    "    plt.show()\n"
   ]
  },
  {
   "cell_type": "code",
   "execution_count": null,
   "metadata": {},
   "outputs": [],
   "source": [
    "# Create a DataFrame with the Northern Hemisphere data (Latitude >= 0)\n",
    "northern_hemi_df = city_data_df[city_data_df[\"Lat\"]>=0]\n",
    "northern_hemi_df = pd.DataFrame(northern_hemi_df)\n",
    "\n",
    "# Display sample data\n",
    "northern_hemi_df"
   ]
  },
  {
   "cell_type": "code",
   "execution_count": null,
   "metadata": {},
   "outputs": [],
   "source": [
    "# Create a DataFrame with the Southern Hemisphere data (Latitude < 0)\n",
    "southern_hemi_df = city_data_df[city_data_df[\"Lat\"]<0]\n",
    "southern_hemi_df=pd.DataFrame(southern_hemi_df)\n",
    "\n",
    "# Display sample data\n",
    "southern_hemi_df"
   ]
  },
  {
   "cell_type": "markdown",
   "metadata": {},
   "source": [
    "###  Temperature vs. Latitude Linear Regression Plot"
   ]
  },
  {
   "cell_type": "code",
   "execution_count": null,
   "metadata": {},
   "outputs": [],
   "source": [
    "# Linear regression on Northern Hemisphere\n",
    "\n",
    "# Define the x and y values for the formula\n",
    "x_values = northern_hemi_df[\"Lat\"]\n",
    "y_values = northern_hemi_df[\"Max Temp\"]\n",
    "\n",
    "xmin = int(x_values.min() + 0.5)\n",
    "ymin = int(y_values.min() + 0.5) + 4\n",
    "\n",
    "# Calculate and show the plot with linear regression using the previously defined function.\n",
    "lin_regr(x_values,y_values,\"Latitude\",\"Temperature (Celsius)\",\"Latitude vs Temperature\")"
   ]
  },
  {
   "cell_type": "code",
   "execution_count": null,
   "metadata": {},
   "outputs": [],
   "source": [
    "# Linear regression on Southern Hemisphere\n",
    "\n",
    "# Define the x and y values for the formula\n",
    "x_values = southern_hemi_df[\"Lat\"]\n",
    "y_values = southern_hemi_df[\"Max Temp\"]\n",
    "\n",
    "xmin = int(x_values.min() + 0.5)\n",
    "ymin = int(y_values.min() + 0.5) + 4\n",
    "\n",
    "# Calculate and show the plot with linear regression using the previously defined function.\n",
    "lin_regr(x_values,y_values, \"Latitude\", \"Temperature (Celsius)\", \"Latitude vs Temperature\")"
   ]
  },
  {
   "cell_type": "markdown",
   "metadata": {},
   "source": [
    "### Discussion about Linear Relationship:\n",
    "* In both hemispheres as the latitude goes away from the equator (0), whether in the positive or negative direction, the temperature decreases as the latitudes approach the poles.\n",
    "* The northern hemisphere has a negative slope while the southern hemisphere has a positive slope. This is due to the northern hemisphere having positive latitudes and the southern hemisphere having negative latitudes, but the slope means the same for each case: temperature decreases the further the latitude is from 0.\n",
    "* The northern hemisphere has a higher r-value, which means there is a stronger linear association between temperature and latitude. The southern hemisphere has a lower r-value, meaning the association is weaker (but still there)."
   ]
  },
  {
   "cell_type": "markdown",
   "metadata": {},
   "source": [
    "### Humidity vs. Latitude Linear Regression Plot"
   ]
  },
  {
   "cell_type": "code",
   "execution_count": null,
   "metadata": {},
   "outputs": [],
   "source": [
    "# Northern Hemisphere\n",
    "\n",
    "# Define the x and y values for the formula\n",
    "x_values = northern_hemi_df[\"Lat\"]\n",
    "y_values = northern_hemi_df[\"Humidity\"]\n",
    "\n",
    "xmin = int(x_values.min() + 0.5)\n",
    "ymin = int(y_values.min() + 0.5) + 4\n",
    "\n",
    "# Calculate and show the plot with linear regression using the previously defined function.\n",
    "lin_regr(x_values,y_values, \"Latitude\", \"Humidity (%)\", \"Latitude vs Humidity\")\n"
   ]
  },
  {
   "cell_type": "code",
   "execution_count": null,
   "metadata": {},
   "outputs": [],
   "source": [
    "# Southern Hemisphere\n",
    "# Define the x and y values for the formula\n",
    "x_values = southern_hemi_df[\"Lat\"]\n",
    "y_values = southern_hemi_df[\"Humidity\"]\n",
    "\n",
    "xmin = int(x_values.min() + 0.5)\n",
    "ymin = int(y_values.min() + 0.5) + 4\n",
    "\n",
    "# Calculate and show the plot with linear regression using the previously defined function.\n",
    "lin_regr(x_values,y_values, \"Latitude\", \"Humidity (%)\", \"Latitude vs Humidity\")\n"
   ]
  },
  {
   "cell_type": "markdown",
   "metadata": {},
   "source": [
    "### Discussion about Linear Relationship:\n",
    "* The northern hemisphere has a steeper, positive slope that indicates the humidity generally increases as latitude increases.\n",
    "* The southern hemisphere has a lesser, positive slope, but since the latitude is negative, this means that humidity somewhat decreases as latitude gets further from 0.\n",
    "* Although both plots indicate some relationship of humidity changing with latitude, the lower r-values (i.e. closer to 0 than to 1) and dispersed plot points tell us that there is not a major correlation between humidity and latitude."
   ]
  },
  {
   "cell_type": "markdown",
   "metadata": {},
   "source": [
    "### Cloudiness vs. Latitude Linear Regression Plot"
   ]
  },
  {
   "cell_type": "code",
   "execution_count": null,
   "metadata": {},
   "outputs": [],
   "source": [
    "# Northern Hemisphere\n",
    "\n",
    "# Define the x and y values for the formula\n",
    "x_values = northern_hemi_df[\"Lat\"]\n",
    "y_values = northern_hemi_df[\"Cloudiness\"]\n",
    "\n",
    "xmin = int(x_values.min() + 0.5)\n",
    "ymin = int(y_values.min() + 0.5) + 4\n",
    "\n",
    "# Calculate and show the plot with linear regression using the previously defined function.\n",
    "lin_regr(x_values,y_values, \"Latitude\", \"Cloudiness (%)\", \"Latitude vs Cloudiness\")\n"
   ]
  },
  {
   "cell_type": "code",
   "execution_count": null,
   "metadata": {},
   "outputs": [],
   "source": [
    "# Southern Hemisphere\n",
    "\n",
    "# Define the x and y values for the formula\n",
    "x_values = southern_hemi_df[\"Lat\"]\n",
    "y_values = southern_hemi_df[\"Cloudiness\"]\n",
    "\n",
    "xmin = int(x_values.min() + 0.5)\n",
    "ymin = int(y_values.min() + 0.5) + 4\n",
    "\n",
    "\n",
    "# Calculate and show the plot with linear regression using the previously defined function.\n",
    "lin_regr(x_values,y_values, \"Latitude\", \"Cloudiness (%)\", \"Latitude vs Cloudiness\")\n"
   ]
  },
  {
   "cell_type": "markdown",
   "metadata": {},
   "source": [
    "### Discussion about Linear Relationship:\n",
    "* The low r-values for both the northern and southern hemispheres, as well as the wide dispersal of plot points in each graph indicate that cloudiness is not dependent on increasing/decreasing latitude. There is likely a better way to find the relationship of cloudiness versus latitude that includes more variables (such as temperature and humidity)."
   ]
  },
  {
   "cell_type": "markdown",
   "metadata": {},
   "source": [
    "### Wind Speed vs. Latitude Linear Regression Plot"
   ]
  },
  {
   "cell_type": "code",
   "execution_count": null,
   "metadata": {},
   "outputs": [],
   "source": [
    "# Northern Hemisphere\n",
    "\n",
    "# Define the x and y values for the formula\n",
    "x_values = northern_hemi_df[\"Lat\"]\n",
    "y_values = northern_hemi_df[\"Wind Speed\"]\n",
    "\n",
    "xmin = int(x_values.min() + 0.5)\n",
    "ymin = int(y_values.min() + 0.5) + 4\n",
    "\n",
    "# Calculate and show the plot with linear regression using the previously defined function.\n",
    "lin_regr(x_values,y_values, \"Latitude\", \"Wind Speed (m/s)\", \"Latitude vs Wind Speed\")"
   ]
  },
  {
   "cell_type": "code",
   "execution_count": null,
   "metadata": {
    "scrolled": false
   },
   "outputs": [],
   "source": [
    "# Southern Hemisphere\n",
    "\n",
    "# Define the x and y values for the formula\n",
    "x_values = southern_hemi_df[\"Lat\"]\n",
    "y_values = southern_hemi_df[\"Wind Speed\"]\n",
    "\n",
    "xmin = int(x_values.min() + 0.5)\n",
    "ymin = int(y_values.min() + 0.5) + 4\n",
    "\n",
    "# Calculate and show the plot with linear regression using the previously defined function.\n",
    "lin_regr(x_values,y_values, \"Latitude\", \"Wind Speed (m/s)\", \"Latitude vs Wind Speed\")\n"
   ]
  },
  {
   "cell_type": "markdown",
   "metadata": {},
   "source": [
    "### Discussion about Linear Relationship:\n",
    "* Both hemispheres have very low r-values and flatter slopes, which suggests that windspeed has less to do with latitude and distance from the equator, and more to do with other factors that are not included here (such as distance to oceans or mountains, temperature).\n",
    "* Again, the dispersal of plot points for each hemisphere is less concentrated, which makes it difficult to find much of a relationship between latitude and its effect on windspeed."
   ]
  }
 ],
 "metadata": {
  "anaconda-cloud": {},
  "kernel_info": {
   "name": "python3"
  },
  "kernelspec": {
   "display_name": "Python 3 (ipykernel)",
   "language": "python",
   "name": "python3"
  },
  "language_info": {
   "codemirror_mode": {
    "name": "ipython",
    "version": 3
   },
   "file_extension": ".py",
   "mimetype": "text/x-python",
   "name": "python",
   "nbconvert_exporter": "python",
   "pygments_lexer": "ipython3",
   "version": "3.10.13"
  },
  "latex_envs": {
   "LaTeX_envs_menu_present": true,
   "autoclose": false,
   "autocomplete": true,
   "bibliofile": "biblio.bib",
   "cite_by": "apalike",
   "current_citInitial": 1,
   "eqLabelWithNumbers": true,
   "eqNumInitial": 1,
   "hotkeys": {
    "equation": "Ctrl-E",
    "itemize": "Ctrl-I"
   },
   "labels_anchors": false,
   "latex_user_defs": false,
   "report_style_numbering": false,
   "user_envs_cfg": false
  },
  "nteract": {
   "version": "0.12.3"
  }
 },
 "nbformat": 4,
 "nbformat_minor": 4
}
