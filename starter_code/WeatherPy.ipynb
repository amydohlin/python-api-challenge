{
 "cells": [
  {
   "cell_type": "markdown",
   "metadata": {},
   "source": [
    "# WeatherPy\n",
    "\n",
    "---\n",
    "\n",
    "## Starter Code to Generate Random Geographic Coordinates and a List of Cities"
   ]
  },
  {
   "cell_type": "code",
   "execution_count": 1,
   "metadata": {
    "scrolled": true
   },
   "outputs": [],
   "source": [
    "# Dependencies and Setup\n",
    "import matplotlib.pyplot as plt\n",
    "import pandas as pd\n",
    "import numpy as np\n",
    "import requests\n",
    "import time\n",
    "from scipy.stats import linregress\n",
    "\n",
    "# Import the OpenWeatherMap API key\n",
    "from api_keys import weather_api_key\n",
    "\n",
    "# Import citipy to determine the cities based on latitude and longitude\n",
    "from citipy import citipy"
   ]
  },
  {
   "cell_type": "markdown",
   "metadata": {},
   "source": [
    "### Generate the Cities List by Using the `citipy` Library"
   ]
  },
  {
   "cell_type": "code",
   "execution_count": 13,
   "metadata": {},
   "outputs": [
    {
     "name": "stdout",
     "output_type": "stream",
     "text": [
      "Number of cities in the list: 636\n"
     ]
    }
   ],
   "source": [
    "# Empty list for holding the latitude and longitude combinations\n",
    "lat_lngs = []\n",
    "\n",
    "# Empty list for holding the cities names\n",
    "cities = []\n",
    "\n",
    "# Range of latitudes and longitudes\n",
    "lat_range = (-90, 90)\n",
    "lng_range = (-180, 180)\n",
    "\n",
    "# Create a set of random lat and lng combinations\n",
    "lats = np.random.uniform(lat_range[0], lat_range[1], size=1500)\n",
    "lngs = np.random.uniform(lng_range[0], lng_range[1], size=1500)\n",
    "lat_lngs = zip(lats, lngs)\n",
    "\n",
    "# Identify nearest city for each lat, lng combination\n",
    "for lat_lng in lat_lngs:\n",
    "    city = citipy.nearest_city(lat_lng[0], lat_lng[1]).city_name\n",
    "    \n",
    "    # If the city is unique, then add it to a our cities list\n",
    "    if city not in cities:\n",
    "        cities.append(city)\n",
    "\n",
    "# Print the city count to confirm sufficient count\n",
    "print(f\"Number of cities in the list: {len(cities)}\")"
   ]
  },
  {
   "cell_type": "code",
   "execution_count": 3,
   "metadata": {},
   "outputs": [],
   "source": [
    "#cities"
   ]
  },
  {
   "cell_type": "code",
   "execution_count": 14,
   "metadata": {},
   "outputs": [
    {
     "data": {
      "text/plain": [
       "['sisimiut',\n",
       " 'wailua homesteads',\n",
       " 'port isabel',\n",
       " 'whitewater',\n",
       " 'taoudenni',\n",
       " 'port-aux-francais',\n",
       " \"la'ie\",\n",
       " 'hawera',\n",
       " 'sorong',\n",
       " 'avarua']"
      ]
     },
     "execution_count": 14,
     "metadata": {},
     "output_type": "execute_result"
    }
   ],
   "source": [
    "city_test = cities[0:10]\n",
    "city_test"
   ]
  },
  {
   "cell_type": "markdown",
   "metadata": {},
   "source": [
    "---"
   ]
  },
  {
   "cell_type": "markdown",
   "metadata": {},
   "source": [
    "## Requirement 1: Create Plots to Showcase the Relationship Between Weather Variables and Latitude\n",
    "\n",
    "### Use the OpenWeatherMap API to retrieve weather data from the cities list generated in the started code"
   ]
  },
  {
   "cell_type": "code",
   "execution_count": 27,
   "metadata": {},
   "outputs": [
    {
     "name": "stdout",
     "output_type": "stream",
     "text": [
      "Beginning Data Retrieval     \n",
      "-----------------------------\n",
      "Processing Record 1 of Set 1 | sisimiut\n",
      "{'base': 'stations',\n",
      " 'clouds': {'all': 93},\n",
      " 'cod': 200,\n",
      " 'coord': {'lat': 66.9395, 'lon': -53.6735},\n",
      " 'dt': 1706909798,\n",
      " 'id': 3419842,\n",
      " 'main': {'feels_like': -29.42,\n",
      "          'grnd_level': 1002,\n",
      "          'humidity': 95,\n",
      "          'pressure': 1004,\n",
      "          'sea_level': 1004,\n",
      "          'temp': -22.42,\n",
      "          'temp_max': -22.42,\n",
      "          'temp_min': -22.42},\n",
      " 'name': 'Sisimiut',\n",
      " 'sys': {'country': 'GL', 'sunrise': 1706877512, 'sunset': 1706900283},\n",
      " 'timezone': -7200,\n",
      " 'visibility': 1702,\n",
      " 'weather': [{'description': 'overcast clouds',\n",
      "              'icon': '04n',\n",
      "              'id': 804,\n",
      "              'main': 'Clouds'}],\n",
      " 'wind': {'deg': 79, 'gust': 2.74, 'speed': 3.95}}\n",
      "Processing Record 2 of Set 1 | wailua homesteads\n",
      "{'base': 'stations',\n",
      " 'clouds': {'all': 0},\n",
      " 'cod': 200,\n",
      " 'coord': {'lat': 22.0669, 'lon': -159.378},\n",
      " 'dt': 1706909799,\n",
      " 'id': 7262802,\n",
      " 'main': {'feels_like': 21.51,\n",
      "          'humidity': 64,\n",
      "          'pressure': 1023,\n",
      "          'temp': 21.62,\n",
      "          'temp_max': 24.24,\n",
      "          'temp_min': 20.63},\n",
      " 'name': 'Wailua Homesteads',\n",
      " 'sys': {'country': 'US',\n",
      "         'id': 2039329,\n",
      "         'sunrise': 1706894135,\n",
      "         'sunset': 1706934403,\n",
      "         'type': 2},\n",
      " 'timezone': -36000,\n",
      " 'visibility': 10000,\n",
      " 'weather': [{'description': 'clear sky',\n",
      "              'icon': '01d',\n",
      "              'id': 800,\n",
      "              'main': 'Clear'}],\n",
      " 'wind': {'deg': 20, 'gust': 13.38, 'speed': 10.29}}\n",
      "Processing Record 3 of Set 1 | port isabel\n",
      "{'base': 'stations',\n",
      " 'clouds': {'all': 75},\n",
      " 'cod': 200,\n",
      " 'coord': {'lat': 26.0734, 'lon': -97.2086},\n",
      " 'dt': 1706909799,\n",
      " 'id': 4720060,\n",
      " 'main': {'feels_like': 25.14,\n",
      "          'humidity': 76,\n",
      "          'pressure': 1005,\n",
      "          'temp': 24.64,\n",
      "          'temp_max': 26.04,\n",
      "          'temp_min': 24.02},\n",
      " 'name': 'Port Isabel',\n",
      " 'sys': {'country': 'US',\n",
      "         'id': 2007295,\n",
      "         'sunrise': 1706879564,\n",
      "         'sunset': 1706919130,\n",
      "         'type': 2},\n",
      " 'timezone': -21600,\n",
      " 'visibility': 10000,\n",
      " 'weather': [{'description': 'broken clouds',\n",
      "              'icon': '04d',\n",
      "              'id': 803,\n",
      "              'main': 'Clouds'}],\n",
      " 'wind': {'deg': 150, 'gust': 14.4, 'speed': 10.29}}\n",
      "Processing Record 4 of Set 1 | whitewater\n",
      "{'base': 'stations',\n",
      " 'clouds': {'all': 7},\n",
      " 'cod': 200,\n",
      " 'coord': {'lat': 42.8336, 'lon': -88.7323},\n",
      " 'dt': 1706909800,\n",
      " 'id': 5278931,\n",
      " 'main': {'feels_like': -1.88,\n",
      "          'grnd_level': 989,\n",
      "          'humidity': 71,\n",
      "          'pressure': 1020,\n",
      "          'sea_level': 1020,\n",
      "          'temp': 1.91,\n",
      "          'temp_max': 3.48,\n",
      "          'temp_min': 0.16},\n",
      " 'name': 'Whitewater',\n",
      " 'sys': {'country': 'US',\n",
      "         'id': 2035500,\n",
      "         'sunrise': 1706879345,\n",
      "         'sunset': 1706915281,\n",
      "         'type': 2},\n",
      " 'timezone': -21600,\n",
      " 'visibility': 10000,\n",
      " 'weather': [{'description': 'clear sky',\n",
      "              'icon': '01d',\n",
      "              'id': 800,\n",
      "              'main': 'Clear'}],\n",
      " 'wind': {'deg': 95, 'gust': 5.36, 'speed': 3.92}}\n",
      "Processing Record 5 of Set 1 | taoudenni\n",
      "{'base': 'stations',\n",
      " 'clouds': {'all': 89},\n",
      " 'cod': 200,\n",
      " 'coord': {'lat': 22.6783, 'lon': -3.9836},\n",
      " 'dt': 1706909801,\n",
      " 'id': 2450173,\n",
      " 'main': {'feels_like': 18.41,\n",
      "          'grnd_level': 1006,\n",
      "          'humidity': 15,\n",
      "          'pressure': 1022,\n",
      "          'sea_level': 1022,\n",
      "          'temp': 19.97,\n",
      "          'temp_max': 19.97,\n",
      "          'temp_min': 19.97},\n",
      " 'name': 'Taoudenni',\n",
      " 'sys': {'country': 'ML', 'sunrise': 1706856902, 'sunset': 1706897040},\n",
      " 'timezone': 0,\n",
      " 'visibility': 10000,\n",
      " 'weather': [{'description': 'overcast clouds',\n",
      "              'icon': '04n',\n",
      "              'id': 804,\n",
      "              'main': 'Clouds'}],\n",
      " 'wind': {'deg': 44, 'gust': 7.84, 'speed': 5.23}}\n",
      "Processing Record 6 of Set 1 | port-aux-francais\n",
      "{'base': 'stations',\n",
      " 'clouds': {'all': 51},\n",
      " 'cod': 200,\n",
      " 'coord': {'lat': -49.35, 'lon': 70.2167},\n",
      " 'dt': 1706909801,\n",
      " 'id': 1546102,\n",
      " 'main': {'feels_like': 3.17,\n",
      "          'grnd_level': 1015,\n",
      "          'humidity': 95,\n",
      "          'pressure': 1016,\n",
      "          'sea_level': 1016,\n",
      "          'temp': 7.28,\n",
      "          'temp_max': 7.28,\n",
      "          'temp_min': 7.28},\n",
      " 'name': 'Port-aux-Français',\n",
      " 'sys': {'country': 'TF', 'sunrise': 1706918705, 'sunset': 1706972434},\n",
      " 'timezone': 18000,\n",
      " 'visibility': 10000,\n",
      " 'weather': [{'description': 'broken clouds',\n",
      "              'icon': '04n',\n",
      "              'id': 803,\n",
      "              'main': 'Clouds'}],\n",
      " 'wind': {'deg': 288, 'gust': 10.42, 'speed': 7.88}}\n",
      "Processing Record 7 of Set 1 | la'ie\n",
      "{'base': 'stations',\n",
      " 'clouds': {'all': 64},\n",
      " 'cod': 200,\n",
      " 'coord': {'lat': 21.6477, 'lon': -157.9253},\n",
      " 'dt': 1706909802,\n",
      " 'id': 5850027,\n",
      " 'main': {'feels_like': 24.38,\n",
      "          'humidity': 65,\n",
      "          'pressure': 1022,\n",
      "          'temp': 24.21,\n",
      "          'temp_max': 24.5,\n",
      "          'temp_min': 22.23},\n",
      " 'name': 'Lā‘ie',\n",
      " 'sys': {'country': 'US',\n",
      "         'id': 2024501,\n",
      "         'sunrise': 1706893752,\n",
      "         'sunset': 1706934089,\n",
      "         'type': 2},\n",
      " 'timezone': -36000,\n",
      " 'visibility': 10000,\n",
      " 'weather': [{'description': 'broken clouds',\n",
      "              'icon': '04d',\n",
      "              'id': 803,\n",
      "              'main': 'Clouds'}],\n",
      " 'wind': {'deg': 343, 'gust': 7.15, 'speed': 4.02}}\n",
      "Processing Record 8 of Set 1 | hawera\n",
      "{'base': 'stations',\n",
      " 'clouds': {'all': 34},\n",
      " 'cod': 200,\n",
      " 'coord': {'lat': -39.5917, 'lon': 174.2833},\n",
      " 'dt': 1706909802,\n",
      " 'id': 2206359,\n",
      " 'main': {'feels_like': 13.95,\n",
      "          'grnd_level': 978,\n",
      "          'humidity': 86,\n",
      "          'pressure': 991,\n",
      "          'sea_level': 991,\n",
      "          'temp': 14.23,\n",
      "          'temp_max': 14.23,\n",
      "          'temp_min': 14.23},\n",
      " 'name': 'Hawera',\n",
      " 'sys': {'country': 'NZ', 'sunrise': 1706895236, 'sunset': 1706945947},\n",
      " 'timezone': 46800,\n",
      " 'visibility': 9187,\n",
      " 'weather': [{'description': 'scattered clouds',\n",
      "              'icon': '03d',\n",
      "              'id': 802,\n",
      "              'main': 'Clouds'}],\n",
      " 'wind': {'deg': 276, 'gust': 14.69, 'speed': 9.29}}\n",
      "Processing Record 9 of Set 1 | sorong\n",
      "{'base': 'stations',\n",
      " 'clouds': {'all': 59},\n",
      " 'cod': 200,\n",
      " 'coord': {'lat': -0.8833, 'lon': 131.25},\n",
      " 'dt': 1706909803,\n",
      " 'id': 1626542,\n",
      " 'main': {'feels_like': 30.35,\n",
      "          'grnd_level': 1012,\n",
      "          'humidity': 85,\n",
      "          'pressure': 1012,\n",
      "          'sea_level': 1012,\n",
      "          'temp': 27.05,\n",
      "          'temp_max': 27.05,\n",
      "          'temp_min': 27.05},\n",
      " 'name': 'Sorong',\n",
      " 'sys': {'country': 'ID', 'sunrise': 1706909048, 'sunset': 1706952792},\n",
      " 'timezone': 32400,\n",
      " 'visibility': 10000,\n",
      " 'weather': [{'description': 'broken clouds',\n",
      "              'icon': '04d',\n",
      "              'id': 803,\n",
      "              'main': 'Clouds'}],\n",
      " 'wind': {'deg': 23, 'gust': 7.24, 'speed': 5.28}}\n",
      "Processing Record 10 of Set 1 | avarua\n",
      "{'base': 'stations',\n",
      " 'clouds': {'all': 75},\n",
      " 'cod': 200,\n",
      " 'coord': {'lat': -21.2078, 'lon': -159.775},\n",
      " 'dt': 1706909803,\n",
      " 'id': 4035715,\n",
      " 'main': {'feels_like': 34.61,\n",
      "          'humidity': 79,\n",
      "          'pressure': 1009,\n",
      "          'temp': 29.03,\n",
      "          'temp_max': 29.03,\n",
      "          'temp_min': 29.03},\n",
      " 'name': 'Avarua',\n",
      " 'rain': {'1h': 0.37},\n",
      " 'sys': {'country': 'CK',\n",
      "         'id': 7271,\n",
      "         'sunrise': 1706890920,\n",
      "         'sunset': 1706937809,\n",
      "         'type': 1},\n",
      " 'timezone': -36000,\n",
      " 'visibility': 10000,\n",
      " 'weather': [{'description': 'light rain',\n",
      "              'icon': '10d',\n",
      "              'id': 500,\n",
      "              'main': 'Rain'}],\n",
      " 'wind': {'deg': 50, 'speed': 1.54}}\n",
      "-----------------------------\n",
      "Data Retrieval Complete      \n",
      "-----------------------------\n"
     ]
    }
   ],
   "source": [
    "# Set the API base URL\n",
    "from pprint import pprint\n",
    "\n",
    "\n",
    "# +\"&units=\" + units\n",
    "url = \"https://api.openweathermap.org/data/2.5/weather?\"\n",
    "cities\n",
    "weather_api_key\n",
    "units= \"metric\"\n",
    "\n",
    "\n",
    "# Define an empty list to fetch the weather data for each city\n",
    "city_data = []\n",
    "\n",
    "# Print to logger\n",
    "print(\"Beginning Data Retrieval     \")\n",
    "print(\"-----------------------------\")\n",
    "\n",
    "# Create counters\n",
    "record_count = 1\n",
    "set_count = 1\n",
    "\n",
    "# Loop through all the cities in our list to fetch weather data\n",
    "for i, city in enumerate(city_test):\n",
    "        \n",
    "    # Group cities in sets of 50 for logging purposes\n",
    "    if (i % 50 == 0 and i >= 50):\n",
    "        set_count += 1\n",
    "        record_count = 0\n",
    "\n",
    "    # Create endpoint URL with each city\n",
    "    city_url = url + \"&q=\" + city + \"&appid=\" + weather_api_key + \"&units=\" + units\n",
    "    \n",
    "    # Log the url, record, and set numbers\n",
    "    print(\"Processing Record %s of Set %s | %s\" % (record_count, set_count, city))\n",
    "\n",
    "    # Add 1 to the record count\n",
    "    record_count += 1\n",
    "\n",
    "    # Run an API request for each of the cities\n",
    "    #try:\n",
    "\n",
    "\n",
    "        # Parse the JSON and retrieve data\n",
    "    city_weather = requests.get(city_url).json()\n",
    "    pprint(city_weather)\n",
    "\n",
    "\n",
    "        Parse out latitude, longitude, max temp, humidity, cloudiness, wind speed, country, and date\n",
    "        city_lat = city_weather[\"coord\"][\"lat\"]\n",
    "        city_lng = city_weather[\"coord\"][\"lon\"]\n",
    "        city_max_temp = city_weather[\"main\"][\"temp_max\"]\n",
    "        city_humidity = # YOUR CODE HERE\n",
    "        city_clouds = # YOUR CODE HERE\n",
    "        city_wind = # YOUR CODE HERE\n",
    "        city_country = # YOUR CODE HERE\n",
    "        city_date = # YOUR CODE HERE\n",
    "\n",
    "        Append the City information into city_data list\n",
    "        city_data.append({\"City\": city, \n",
    "                          \"Lat\": city_lat, \n",
    "                          \"Lng\": city_lng, \n",
    "                          \"Max Temp\": city_max_temp})\n",
    "                          \"Humidity\": city_humidity,\n",
    "                          \"Cloudiness\": city_clouds,\n",
    "                          \"Wind Speed\": city_wind,\n",
    "                          \"Country\": city_country,\n",
    "                          \"Date\": city_date})\n",
    "\n",
    "    # If an error is experienced, skip the city\n",
    "    except:\n",
    "        print(\"City not found. Skipping...\")\n",
    "        pass\n",
    "              \n",
    "# Indicate that Data Loading is complete \n",
    "print(\"-----------------------------\")\n",
    "print(\"Data Retrieval Complete      \")\n",
    "print(\"-----------------------------\")"
   ]
  },
  {
   "cell_type": "code",
   "execution_count": 21,
   "metadata": {},
   "outputs": [
    {
     "data": {
      "text/html": [
       "<div>\n",
       "<style scoped>\n",
       "    .dataframe tbody tr th:only-of-type {\n",
       "        vertical-align: middle;\n",
       "    }\n",
       "\n",
       "    .dataframe tbody tr th {\n",
       "        vertical-align: top;\n",
       "    }\n",
       "\n",
       "    .dataframe thead th {\n",
       "        text-align: right;\n",
       "    }\n",
       "</style>\n",
       "<table border=\"1\" class=\"dataframe\">\n",
       "  <thead>\n",
       "    <tr style=\"text-align: right;\">\n",
       "      <th></th>\n",
       "      <th>City</th>\n",
       "      <th>Lat</th>\n",
       "      <th>Lng</th>\n",
       "      <th>Max Temp</th>\n",
       "    </tr>\n",
       "  </thead>\n",
       "  <tbody>\n",
       "    <tr>\n",
       "      <th>0</th>\n",
       "      <td>sisimiut</td>\n",
       "      <td>66.9395</td>\n",
       "      <td>-53.6735</td>\n",
       "      <td>-22.42</td>\n",
       "    </tr>\n",
       "    <tr>\n",
       "      <th>1</th>\n",
       "      <td>wailua homesteads</td>\n",
       "      <td>22.0669</td>\n",
       "      <td>-159.3780</td>\n",
       "      <td>24.24</td>\n",
       "    </tr>\n",
       "    <tr>\n",
       "      <th>2</th>\n",
       "      <td>port isabel</td>\n",
       "      <td>26.0734</td>\n",
       "      <td>-97.2086</td>\n",
       "      <td>26.04</td>\n",
       "    </tr>\n",
       "    <tr>\n",
       "      <th>3</th>\n",
       "      <td>whitewater</td>\n",
       "      <td>42.8336</td>\n",
       "      <td>-88.7323</td>\n",
       "      <td>3.48</td>\n",
       "    </tr>\n",
       "    <tr>\n",
       "      <th>4</th>\n",
       "      <td>taoudenni</td>\n",
       "      <td>22.6783</td>\n",
       "      <td>-3.9836</td>\n",
       "      <td>19.97</td>\n",
       "    </tr>\n",
       "    <tr>\n",
       "      <th>5</th>\n",
       "      <td>port-aux-francais</td>\n",
       "      <td>-49.3500</td>\n",
       "      <td>70.2167</td>\n",
       "      <td>7.28</td>\n",
       "    </tr>\n",
       "    <tr>\n",
       "      <th>6</th>\n",
       "      <td>la'ie</td>\n",
       "      <td>21.6477</td>\n",
       "      <td>-157.9253</td>\n",
       "      <td>24.50</td>\n",
       "    </tr>\n",
       "    <tr>\n",
       "      <th>7</th>\n",
       "      <td>hawera</td>\n",
       "      <td>-39.5917</td>\n",
       "      <td>174.2833</td>\n",
       "      <td>14.23</td>\n",
       "    </tr>\n",
       "    <tr>\n",
       "      <th>8</th>\n",
       "      <td>sorong</td>\n",
       "      <td>-0.8833</td>\n",
       "      <td>131.2500</td>\n",
       "      <td>27.05</td>\n",
       "    </tr>\n",
       "    <tr>\n",
       "      <th>9</th>\n",
       "      <td>avarua</td>\n",
       "      <td>-21.2078</td>\n",
       "      <td>-159.7750</td>\n",
       "      <td>29.03</td>\n",
       "    </tr>\n",
       "  </tbody>\n",
       "</table>\n",
       "</div>"
      ],
      "text/plain": [
       "                City      Lat       Lng  Max Temp\n",
       "0           sisimiut  66.9395  -53.6735    -22.42\n",
       "1  wailua homesteads  22.0669 -159.3780     24.24\n",
       "2        port isabel  26.0734  -97.2086     26.04\n",
       "3         whitewater  42.8336  -88.7323      3.48\n",
       "4          taoudenni  22.6783   -3.9836     19.97\n",
       "5  port-aux-francais -49.3500   70.2167      7.28\n",
       "6              la'ie  21.6477 -157.9253     24.50\n",
       "7             hawera -39.5917  174.2833     14.23\n",
       "8             sorong  -0.8833  131.2500     27.05\n",
       "9             avarua -21.2078 -159.7750     29.03"
      ]
     },
     "execution_count": 21,
     "metadata": {},
     "output_type": "execute_result"
    }
   ],
   "source": [
    "# Convert the cities weather data into a Pandas DataFrame\n",
    "city_data_df = pd.DataFrame(city_data)\n",
    "city_data_df\n",
    "# Show Record Count\n",
    "#city_data_df.count()"
   ]
  },
  {
   "cell_type": "code",
   "execution_count": null,
   "metadata": {},
   "outputs": [],
   "source": [
    "# Display sample data\n",
    "city_data_df.head()"
   ]
  },
  {
   "cell_type": "code",
   "execution_count": null,
   "metadata": {},
   "outputs": [],
   "source": [
    "# Export the City_Data into a csv\n",
    "city_data_df.to_csv(\"output_data/cities.csv\", index_label=\"City_ID\")"
   ]
  },
  {
   "cell_type": "code",
   "execution_count": null,
   "metadata": {},
   "outputs": [],
   "source": [
    "# Read saved data\n",
    "city_data_df = pd.read_csv(\"output_data/cities.csv\", index_col=\"City_ID\")\n",
    "\n",
    "# Display sample data\n",
    "city_data_df.head()"
   ]
  },
  {
   "cell_type": "markdown",
   "metadata": {},
   "source": [
    "### Create the Scatter Plots Requested\n",
    "\n",
    "#### Latitude Vs. Temperature"
   ]
  },
  {
   "cell_type": "code",
   "execution_count": null,
   "metadata": {
    "tags": []
   },
   "outputs": [],
   "source": [
    "# Build scatter plot for latitude vs. temperature\n",
    "# YOUR CODE HERE\n",
    "\n",
    "# Incorporate the other graph properties\n",
    "# YOUR CODE HERE\n",
    "\n",
    "# Save the figure\n",
    "plt.savefig(\"output_data/Fig1.png\")\n",
    "\n",
    "# Show plot\n",
    "plt.show()"
   ]
  },
  {
   "cell_type": "markdown",
   "metadata": {},
   "source": [
    "#### Latitude Vs. Humidity"
   ]
  },
  {
   "cell_type": "code",
   "execution_count": null,
   "metadata": {},
   "outputs": [],
   "source": [
    "# Build the scatter plots for latitude vs. humidity\n",
    "# YOUR CODE HERE\n",
    "\n",
    "# Incorporate the other graph properties\n",
    "# YOUR CODE HERE\n",
    "\n",
    "# Save the figure\n",
    "plt.savefig(\"output_data/Fig2.png\")\n",
    "\n",
    "# Show plot\n",
    "plt.show()"
   ]
  },
  {
   "cell_type": "markdown",
   "metadata": {},
   "source": [
    "#### Latitude Vs. Cloudiness"
   ]
  },
  {
   "cell_type": "code",
   "execution_count": null,
   "metadata": {},
   "outputs": [],
   "source": [
    "# Build the scatter plots for latitude vs. cloudiness\n",
    "# YOUR CODE HERE\n",
    "\n",
    "# Incorporate the other graph properties\n",
    "# YOUR CODE HERE\n",
    "\n",
    "# Save the figure\n",
    "plt.savefig(\"output_data/Fig3.png\")\n",
    "\n",
    "# Show plot\n",
    "plt.show()"
   ]
  },
  {
   "cell_type": "markdown",
   "metadata": {},
   "source": [
    "#### Latitude vs. Wind Speed Plot"
   ]
  },
  {
   "cell_type": "code",
   "execution_count": null,
   "metadata": {},
   "outputs": [],
   "source": [
    "# Build the scatter plots for latitude vs. wind speed\n",
    "# YOUR CODE HERE\n",
    "\n",
    "# Incorporate the other graph properties\n",
    "# YOUR CODE HERE\n",
    "\n",
    "# Save the figure\n",
    "plt.savefig(\"output_data/Fig4.png\")\n",
    "\n",
    "# Show plot\n",
    "plt.show()"
   ]
  },
  {
   "cell_type": "markdown",
   "metadata": {},
   "source": [
    "---\n",
    "\n",
    "## Requirement 2: Compute Linear Regression for Each Relationship\n"
   ]
  },
  {
   "cell_type": "code",
   "execution_count": null,
   "metadata": {},
   "outputs": [],
   "source": [
    "# Define a function to create Linear Regression plots\n",
    "# YOUR CODE HERE"
   ]
  },
  {
   "cell_type": "code",
   "execution_count": null,
   "metadata": {},
   "outputs": [],
   "source": [
    "# Create a DataFrame with the Northern Hemisphere data (Latitude >= 0)\n",
    "# YOUR CODE HERE\n",
    "\n",
    "# Display sample data\n",
    "northern_hemi_df.head()"
   ]
  },
  {
   "cell_type": "code",
   "execution_count": null,
   "metadata": {},
   "outputs": [],
   "source": [
    "# Create a DataFrame with the Southern Hemisphere data (Latitude < 0)\n",
    "# YOUR CODE HERE\n",
    "\n",
    "# Display sample data\n",
    "southern_hemi_df.head()"
   ]
  },
  {
   "cell_type": "markdown",
   "metadata": {},
   "source": [
    "###  Temperature vs. Latitude Linear Regression Plot"
   ]
  },
  {
   "cell_type": "code",
   "execution_count": null,
   "metadata": {},
   "outputs": [],
   "source": [
    "# Linear regression on Northern Hemisphere\n",
    "# YOUR CODE HERE"
   ]
  },
  {
   "cell_type": "code",
   "execution_count": null,
   "metadata": {},
   "outputs": [],
   "source": [
    "# Linear regression on Southern Hemisphere\n",
    "# YOUR CODE HERE"
   ]
  },
  {
   "cell_type": "markdown",
   "metadata": {},
   "source": [
    "**Discussion about the linear relationship:** YOUR RESPONSE HERE"
   ]
  },
  {
   "cell_type": "markdown",
   "metadata": {},
   "source": [
    "### Humidity vs. Latitude Linear Regression Plot"
   ]
  },
  {
   "cell_type": "code",
   "execution_count": null,
   "metadata": {},
   "outputs": [],
   "source": [
    "# Northern Hemisphere\n",
    "# YOUR CODE HERE"
   ]
  },
  {
   "cell_type": "code",
   "execution_count": null,
   "metadata": {},
   "outputs": [],
   "source": [
    "# Southern Hemisphere\n",
    "# YOUR CODE HERE"
   ]
  },
  {
   "cell_type": "markdown",
   "metadata": {},
   "source": [
    "**Discussion about the linear relationship:** YOUR RESPONSE HERE"
   ]
  },
  {
   "cell_type": "markdown",
   "metadata": {},
   "source": [
    "### Cloudiness vs. Latitude Linear Regression Plot"
   ]
  },
  {
   "cell_type": "code",
   "execution_count": null,
   "metadata": {},
   "outputs": [],
   "source": [
    "# Northern Hemisphere\n",
    "# YOUR CODE HERE"
   ]
  },
  {
   "cell_type": "code",
   "execution_count": null,
   "metadata": {},
   "outputs": [],
   "source": [
    "# Southern Hemisphere\n",
    "# YOUR CODE HERE"
   ]
  },
  {
   "cell_type": "markdown",
   "metadata": {},
   "source": [
    "**Discussion about the linear relationship:** YOUR RESPONSE HERE"
   ]
  },
  {
   "cell_type": "markdown",
   "metadata": {},
   "source": [
    "### Wind Speed vs. Latitude Linear Regression Plot"
   ]
  },
  {
   "cell_type": "code",
   "execution_count": null,
   "metadata": {},
   "outputs": [],
   "source": [
    "# Northern Hemisphere\n",
    "# YOUR CODE HERE"
   ]
  },
  {
   "cell_type": "code",
   "execution_count": null,
   "metadata": {},
   "outputs": [],
   "source": [
    "# Southern Hemisphere\n",
    "# YOUR CODE HERE"
   ]
  },
  {
   "cell_type": "markdown",
   "metadata": {},
   "source": [
    "**Discussion about the linear relationship:** YOUR RESPONSE HERE"
   ]
  },
  {
   "cell_type": "code",
   "execution_count": null,
   "metadata": {},
   "outputs": [],
   "source": []
  }
 ],
 "metadata": {
  "anaconda-cloud": {},
  "kernel_info": {
   "name": "python3"
  },
  "kernelspec": {
   "display_name": "Python 3 (ipykernel)",
   "language": "python",
   "name": "python3"
  },
  "language_info": {
   "codemirror_mode": {
    "name": "ipython",
    "version": 3
   },
   "file_extension": ".py",
   "mimetype": "text/x-python",
   "name": "python",
   "nbconvert_exporter": "python",
   "pygments_lexer": "ipython3",
   "version": "3.10.13"
  },
  "latex_envs": {
   "LaTeX_envs_menu_present": true,
   "autoclose": false,
   "autocomplete": true,
   "bibliofile": "biblio.bib",
   "cite_by": "apalike",
   "current_citInitial": 1,
   "eqLabelWithNumbers": true,
   "eqNumInitial": 1,
   "hotkeys": {
    "equation": "Ctrl-E",
    "itemize": "Ctrl-I"
   },
   "labels_anchors": false,
   "latex_user_defs": false,
   "report_style_numbering": false,
   "user_envs_cfg": false
  },
  "nteract": {
   "version": "0.12.3"
  }
 },
 "nbformat": 4,
 "nbformat_minor": 4
}
